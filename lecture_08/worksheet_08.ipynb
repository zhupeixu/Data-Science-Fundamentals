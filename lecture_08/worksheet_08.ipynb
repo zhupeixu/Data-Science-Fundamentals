{
 "cells": [
  {
   "attachments": {},
   "cell_type": "markdown",
   "metadata": {},
   "source": [
    "# Worksheet 08\n",
    "\n",
    "Name:  Zhupei Xu\n",
    "UID: U83632486\n",
    "\n",
    "### Topics\n",
    "\n",
    "- Soft Clustering\n",
    "- Clustering Aggregation\n",
    "\n",
    "### Probability Review\n",
    "\n",
    "Read through [the following](https://medium.com/@gallettilance/overview-of-probability-3272b72c82c8)\n",
    "\n",
    "### Soft Clustering\n",
    "\n",
    "We generate 10 data points that come from a normal distribution with mean 5 and variance 1."
   ]
  },
  {
   "cell_type": "code",
   "execution_count": 1,
   "metadata": {},
   "outputs": [
    {
     "name": "stdout",
     "output_type": "stream",
     "text": [
      "[6.419897449745014, 5.352244116418865, 4.267604647284105, 4.744904553391367, 4.730187895825456, 4.672729485725315, 4.852249290303486, 4.057794199979205, 5.076354121861243, 4.9593082957465215]\n"
     ]
    }
   ],
   "source": [
    "import random\n",
    "import numpy as np\n",
    "from sklearn.cluster import KMeans\n",
    "\n",
    "mean = 5\n",
    "stdev = 1\n",
    "\n",
    "c1 = np.random.normal(mean, stdev, 10).tolist()\n",
    "print(c1)"
   ]
  },
  {
   "cell_type": "markdown",
   "metadata": {},
   "source": [
    "a) Generate 10 more data points, this time coming from a normal distribution with mean 8 and variance 1."
   ]
  },
  {
   "cell_type": "code",
   "execution_count": 2,
   "metadata": {},
   "outputs": [
    {
     "name": "stdout",
     "output_type": "stream",
     "text": [
      "[7.727340713476071, 7.330597894001775, 6.233162232332752, 6.383538068404377, 8.05314072440439, 8.940080916641582, 9.14244318484091, 8.05087684371235, 8.773260177792025, 6.559168296806684]\n"
     ]
    }
   ],
   "source": [
    "c2 = np.random.normal( 8 , 1 , 10 ).tolist()\n",
    "print(c2)"
   ]
  },
  {
   "cell_type": "markdown",
   "metadata": {},
   "source": [
    "b) Flip a fair coin 10 times. If the coin lands on H, then pick the last data point of `c1` and remove it from `c1`, if T then pick the last data point from `c2` and remove it from `c2`. Add these 10 points to a list called `data`."
   ]
  },
  {
   "cell_type": "code",
   "execution_count": 3,
   "metadata": {},
   "outputs": [
    {
     "name": "stdout",
     "output_type": "stream",
     "text": [
      "[6.559168296806684, 8.773260177792025, 4.9593082957465215, 5.076354121861243, 8.05087684371235, 4.057794199979205, 4.852249290303486, 9.14244318484091, 8.940080916641582, 8.05314072440439]\n"
     ]
    }
   ],
   "source": [
    "data = []\n",
    "for i in range(10):\n",
    "    # flip coin\n",
    "    coin_output = random.choice([0, 1])\n",
    "    if coin_output == 0:\n",
    "        p1 = c1.pop()\n",
    "        data.append(p1)\n",
    "    else:\n",
    "        p2 = c2.pop()\n",
    "        data.append(p2)\n",
    "print(data)"
   ]
  },
  {
   "cell_type": "markdown",
   "metadata": {},
   "source": [
    "c) This `data` is a Gaussian Mixture Distribution with 2 mixture components. Over the next few questions we will walk through the GMM algorithm to see if we can uncover the parameters we used to generate this data. First, please list all these parameters of the GMM that created `data` and the values we know they have."
   ]
  },
  {
   "cell_type": "markdown",
   "metadata": {},
   "source": [
    "mean, standard deviation, mixture weights"
   ]
  },
  {
   "cell_type": "markdown",
   "metadata": {},
   "source": [
    "d) Let's assume there are two mixture components (note: we could plot the data and make the observation that there are two clusters). The EM algorithm asks us to start with a random `mean_j`, `variance_j`, `P(C_j)` for each component j. One method we could use to find sensible values for these is to apply K means with k=2 here.\n",
    "\n",
    "1. the centroids would be the estimates of the `mean_j`\n",
    "2. the intra-cluster variance could be the estimate of `variance_j`\n",
    "3. the proportion of points in each cluster could be the estimate of `P(C_j)`\n",
    "\n",
    "Go through this process and list the parameter estimates it gives. Are they close or far from the true values?"
   ]
  },
  {
   "cell_type": "code",
   "execution_count": 4,
   "metadata": {},
   "outputs": [
    {
     "name": "stdout",
     "output_type": "stream",
     "text": [
      "[8.773260177792025, 8.05087684371235, 9.14244318484091, 8.940080916641582, 8.05314072440439]\n",
      "[6.559168296806684, 4.9593082957465215, 5.076354121861243, 4.057794199979205, 4.852249290303486]\n",
      "P(C_1) = 0.5,  P(C_2) = 0.5\n",
      "mean_1 = 8.591960369478253,  mean_2 = 5.100974840939428\n",
      "var_1 = 0.20803737152685767,  var_2 = 0.659418798756449\n"
     ]
    },
    {
     "name": "stderr",
     "output_type": "stream",
     "text": [
      "/Library/Frameworks/Python.framework/Versions/3.11/lib/python3.11/site-packages/sklearn/cluster/_kmeans.py:870: FutureWarning: The default value of `n_init` will change from 10 to 'auto' in 1.4. Set the value of `n_init` explicitly to suppress the warning\n",
      "  warnings.warn(\n"
     ]
    }
   ],
   "source": [
    "kmeans = KMeans(2, init='k-means++').fit(X=np.array(data).reshape(-1, 1))\n",
    "\n",
    "c1 = [x[0] for x in filter(lambda x: x[1] == 0, zip(data, kmeans.labels_))]\n",
    "print(c1)\n",
    "c2 =  [x[0] for x in filter(lambda x: x[1] == 1, zip(data, kmeans.labels_))]\n",
    "print(c2)\n",
    "\n",
    "prob_c = [ len(c1) / (len(c1) + len(c2)) , len(c2) / (len(c1) + len(c2))]\n",
    "mean = [ sum(c1)/len(c1) ,sum(c2)/len(c2)]\n",
    "var = [sum(map(lambda x : (x - mean[0])**2, c1)) / len(c1), sum(map(lambda x : (x - mean[1])**2, c2)) / len(c2)]\n",
    "\n",
    "print(\"P(C_1) = \" + str(prob_c[0]) + \",  P(C_2) = \" + str(prob_c[1]))\n",
    "print(\"mean_1 = \" + str(mean[0]) + \",  mean_2 = \" + str(mean[1]))\n",
    "print(\"var_1 = \" + str(var[0]) + \",  var_2 = \" + str(var[1]))"
   ]
  },
  {
   "cell_type": "markdown",
   "metadata": {},
   "source": []
  },
  {
   "cell_type": "markdown",
   "metadata": {},
   "source": [
    "e) For each data point, compute `P(C_j | X_i)`. Comment on which cluster you think each point belongs to based on the estimated probabilities. How does that compare to the truth?"
   ]
  },
  {
   "cell_type": "code",
   "execution_count": 5,
   "metadata": {},
   "outputs": [
    {
     "name": "stdout",
     "output_type": "stream",
     "text": [
      "point =  6.559168296806684\n",
      "probability of observing that point if it came from cluster 0 =  3.548050543263683e-21\n",
      "probability of observing that point if it came from cluster 1 =  0.05246886982632077\n",
      "point =  8.773260177792025\n",
      "probability of observing that point if it came from cluster 0 =  1.311750927403955\n",
      "probability of observing that point if it came from cluster 1 =  1.114966856737814e-07\n",
      "point =  4.9593082957465215\n",
      "probability of observing that point if it came from cluster 0 =  1.1842309863829335e-66\n",
      "probability of observing that point if it came from cluster 1 =  0.5911891676588379\n",
      "point =  5.076354121861243\n",
      "probability of observing that point if it came from cluster 0 =  1.867646459796954e-62\n",
      "probability of observing that point if it came from cluster 1 =  0.6045692130715747\n",
      "point =  8.05087684371235\n",
      "probability of observing that point if it came from cluster 0 =  0.06513908871959456\n",
      "probability of observing that point if it came from cluster 1 =  2.7300951832717858e-05\n",
      "point =  4.057794199979205\n",
      "probability of observing that point if it came from cluster 0 =  1.3596470371003068e-103\n",
      "probability of observing that point if it came from cluster 1 =  0.17310509987173037\n",
      "point =  4.852249290303486\n",
      "probability of observing that point if it came from cluster 0 =  1.2983106737333699e-70\n",
      "probability of observing that point if it came from cluster 1 =  0.563449322345121\n",
      "point =  9.14244318484091\n",
      "probability of observing that point if it came from cluster 0 =  0.057858112203018466\n",
      "probability of observing that point if it came from cluster 1 =  4.2182516372362815e-09\n",
      "point =  8.940080916641582\n",
      "probability of observing that point if it came from cluster 0 =  0.47285767007048346\n",
      "probability of observing that point if it came from cluster 1 =  2.6394301086416864e-08\n",
      "point =  8.05314072440439\n",
      "probability of observing that point if it came from cluster 0 =  0.06700510252600711\n",
      "probability of observing that point if it came from cluster 1 =  2.688470504348599e-05\n",
      "6.559168296806684\n",
      "Probability of coming from C_1 = 6.762201196649026e-20\n",
      "Probability of coming from C_2 = 1.0\n",
      "\n",
      "8.773260177792025\n",
      "Probability of coming from C_1 = 0.9999999150016411\n",
      "Probability of coming from C_2 = 8.499835896240276e-08\n",
      "\n",
      "4.9593082957465215\n",
      "Probability of coming from C_1 = 2.0031337703168587e-66\n",
      "Probability of coming from C_2 = 1.0\n",
      "\n",
      "5.076354121861243\n",
      "Probability of coming from C_1 = 3.089218602958937e-62\n",
      "Probability of coming from C_2 = 1.0\n",
      "\n",
      "8.05087684371235\n",
      "Probability of coming from C_1 = 0.9995810577819276\n",
      "Probability of coming from C_2 = 0.00041894221807239657\n",
      "\n",
      "4.057794199979205\n",
      "Probability of coming from C_1 = 7.854459736355518e-103\n",
      "Probability of coming from C_2 = 1.0\n",
      "\n",
      "4.852249290303486\n",
      "Probability of coming from C_1 = 2.3042190703676725e-70\n",
      "Probability of coming from C_2 = 1.0\n",
      "\n",
      "9.14244318484091\n",
      "Probability of coming from C_1 = 0.9999999270931739\n",
      "Probability of coming from C_2 = 7.29068261836043e-08\n",
      "\n",
      "8.940080916641582\n",
      "Probability of coming from C_1 = 0.9999999441813018\n",
      "Probability of coming from C_2 = 5.581869827592527e-08\n",
      "\n",
      "8.05314072440439\n",
      "Probability of coming from C_1 = 0.9995989272263283\n",
      "Probability of coming from C_2 = 0.00040107277367173804\n",
      "\n"
     ]
    }
   ],
   "source": [
    "from scipy.stats import norm\n",
    "\n",
    "prob_c0_x = [] # P(C_0 | X_i)\n",
    "prob_c1_x = [] # P(C_1 | X_i)\n",
    "prob_x = [] # P(X_i)\n",
    "\n",
    "k = 2\n",
    "\n",
    "for p in data:\n",
    "    print(\"point = \", p)\n",
    "    pdf_i = []\n",
    "\n",
    "    for j in range(k):\n",
    "        # P(X_i | C_j)\n",
    "        pdf_i.append(norm.pdf(p, mean[j], var[j]))\n",
    "        print(\"probability of observing that point if it came from cluster \" + str(j) + \" = \", pdf_i[j])\n",
    "        # P(C_j) already computed\n",
    "        prob_c[j]\n",
    "\n",
    "    # P(X_i) = P(C_0)P(X_i | C_0) + P(C_1)P(X_i | C_1)\n",
    "    prob_x = prob_c[0] * pdf_i[0] + prob_c[1] * pdf_i[1]\n",
    "\n",
    "    # P(C_j | X_i) = P(X_i | C_j)P(C_j) / P(X_i)\n",
    "    prob_c0_x.append(pdf_i[0] * prob_c[0] / prob_x)\n",
    "    prob_c1_x.append(pdf_i[1] * prob_c[1] / prob_x)\n",
    "\n",
    "probs = zip(data, prob_c0_x, prob_c1_x)\n",
    "for p in probs:\n",
    "    print(p[0])\n",
    "    print(\"Probability of coming from C_1 = \" + str(p[1]))\n",
    "    print(\"Probability of coming from C_2 = \" + str(p[2]))\n",
    "    print()\n"
   ]
  },
  {
   "cell_type": "markdown",
   "metadata": {},
   "source": [
    "f) Having computed `P(C_j | X_i)`, update the estimates of `mean_j`, `var_j`, and `P(C_j)`. How different are these values from the original ones you got from K means? briefly comment."
   ]
  },
  {
   "cell_type": "code",
   "execution_count": 6,
   "metadata": {},
   "outputs": [
    {
     "name": "stdout",
     "output_type": "stream",
     "text": [
      "P(C_1) = 0.49991797712843733,  P(C_2) = 0.5000820228715627\n",
      "mean_1 = 8.592048926734936,  mean_2 = 5.101458900117605\n",
      "var_1 = 0.20802366347376253,  var_2 = 0.6607390180011217\n"
     ]
    }
   ],
   "source": [
    "prob_c = [sum(prob_c0_x) / len(prob_c0_x), sum(prob_c1_x) / len(prob_c1_x)]\n",
    "\n",
    "mean = [\n",
    "    sum([x[0] * x[1] for x in zip(prob_c0_x, data)]) / sum(prob_c0_x),\n",
    "    sum([x[0] * x[1] for x in zip(prob_c1_x, data)]) / sum(prob_c1_x)\n",
    "]\n",
    "\n",
    "var = [\n",
    "    sum([prob_c0_x[i] * (data[i] - mean[0])**2 for i in range(len(data))]) / sum(prob_c0_x),\n",
    "    sum([prob_c1_x[i] * (data[i] - mean[1])**2 for i in range(len(data))]) / sum(prob_c1_x)\n",
    "]\n",
    "\n",
    "print(\"P(C_1) = \" + str(prob_c[0]) + \",  P(C_2) = \" + str(prob_c[1]))\n",
    "print(\"mean_1 = \" + str(mean[0]) + \",  mean_2 = \" + str(mean[1]))\n",
    "print(\"var_1 = \" + str(var[0]) + \",  var_2 = \" + str(var[1]))\n"
   ]
  },
  {
   "cell_type": "markdown",
   "metadata": {},
   "source": []
  },
  {
   "cell_type": "markdown",
   "metadata": {},
   "source": [
    "g) Update `P(C_j | X_i)`. Comment on any differences or lack thereof you observe."
   ]
  },
  {
   "cell_type": "code",
   "execution_count": 7,
   "metadata": {},
   "outputs": [
    {
     "name": "stdout",
     "output_type": "stream",
     "text": [
      "Old P(C_0 | X_i): 0.000, New P(C_0 | X_i): 0.000\n",
      "Old P(C_1 | X_i): 1.000, New P(C_1 | X_i): 1.000\n",
      "----------------------------------------\n",
      "Old P(C_0 | X_i): 1.000, New P(C_0 | X_i): 1.000\n",
      "Old P(C_1 | X_i): 0.000, New P(C_1 | X_i): 0.000\n",
      "----------------------------------------\n",
      "Old P(C_0 | X_i): 0.000, New P(C_0 | X_i): 0.000\n",
      "Old P(C_1 | X_i): 1.000, New P(C_1 | X_i): 1.000\n",
      "----------------------------------------\n",
      "Old P(C_0 | X_i): 0.000, New P(C_0 | X_i): 0.000\n",
      "Old P(C_1 | X_i): 1.000, New P(C_1 | X_i): 1.000\n",
      "----------------------------------------\n",
      "Old P(C_0 | X_i): 1.000, New P(C_0 | X_i): 0.998\n",
      "Old P(C_1 | X_i): 0.000, New P(C_1 | X_i): 0.002\n",
      "----------------------------------------\n",
      "Old P(C_0 | X_i): 0.000, New P(C_0 | X_i): 0.000\n",
      "Old P(C_1 | X_i): 1.000, New P(C_1 | X_i): 1.000\n",
      "----------------------------------------\n",
      "Old P(C_0 | X_i): 0.000, New P(C_0 | X_i): 0.000\n",
      "Old P(C_1 | X_i): 1.000, New P(C_1 | X_i): 1.000\n",
      "----------------------------------------\n",
      "Old P(C_0 | X_i): 1.000, New P(C_0 | X_i): 1.000\n",
      "Old P(C_1 | X_i): 0.000, New P(C_1 | X_i): 0.000\n",
      "----------------------------------------\n",
      "Old P(C_0 | X_i): 1.000, New P(C_0 | X_i): 1.000\n",
      "Old P(C_1 | X_i): 0.000, New P(C_1 | X_i): 0.000\n",
      "----------------------------------------\n",
      "Old P(C_0 | X_i): 1.000, New P(C_0 | X_i): 0.998\n",
      "Old P(C_1 | X_i): 0.000, New P(C_1 | X_i): 0.002\n",
      "----------------------------------------\n"
     ]
    }
   ],
   "source": [
    "new_prob_c0_x = [] # Updated P(C_0 | X_i)\n",
    "new_prob_c1_x = [] # Updated P(C_1 | X_i)\n",
    "\n",
    "for p in data:\n",
    "    pdf_i = []\n",
    "\n",
    "    for j in range(2):\n",
    "        # P(X_i | C_j)\n",
    "        pdf_i.append(norm.pdf(p, mean[j], np.sqrt(var[j])))  # var[j] is variance, so sqrt is taken for standard deviation\n",
    "\n",
    "    # P(X_i) = P(C_0)P(X_i | C_0) + P(C_1)P(X_i | C_1)\n",
    "    prob_x_i = prob_c[0] * pdf_i[0] + prob_c[1] * pdf_i[1]\n",
    "\n",
    "    # P(C_j | X_i) = P(X_i | C_j)P(C_j) / P(X_i)\n",
    "    new_prob_c0_x.append(pdf_i[0] * prob_c[0] / prob_x_i)\n",
    "    new_prob_c1_x.append(pdf_i[1] * prob_c[1] / prob_x_i)\n",
    "\n",
    "# Print the updated and previous probabilities side by side for comparison\n",
    "for old_p0, old_p1, new_p0, new_p1 in zip(prob_c0_x, prob_c1_x, new_prob_c0_x, new_prob_c1_x):\n",
    "    print(f\"Old P(C_0 | X_i): {old_p0:.3f}, New P(C_0 | X_i): {new_p0:.3f}\")\n",
    "    print(f\"Old P(C_1 | X_i): {old_p1:.3f}, New P(C_1 | X_i): {new_p1:.3f}\")\n",
    "    print(\"-\"*40)\n"
   ]
  },
  {
   "cell_type": "markdown",
   "metadata": {},
   "source": []
  },
  {
   "cell_type": "markdown",
   "metadata": {},
   "source": [
    "h) Use `P(C_j | X_i)` to create a hard assignment - label each point as belonging to a specific cluster (0 or 1)"
   ]
  },
  {
   "cell_type": "code",
   "execution_count": 8,
   "metadata": {},
   "outputs": [
    {
     "name": "stdout",
     "output_type": "stream",
     "text": [
      "Data point: 6.559, Cluster: 1\n",
      "Data point: 8.773, Cluster: 0\n",
      "Data point: 4.959, Cluster: 1\n",
      "Data point: 5.076, Cluster: 1\n",
      "Data point: 8.051, Cluster: 0\n",
      "Data point: 4.058, Cluster: 1\n",
      "Data point: 4.852, Cluster: 1\n",
      "Data point: 9.142, Cluster: 0\n",
      "Data point: 8.940, Cluster: 0\n",
      "Data point: 8.053, Cluster: 0\n"
     ]
    }
   ],
   "source": [
    "assignments = []\n",
    "\n",
    "for p0, p1 in zip(new_prob_c0_x, new_prob_c1_x):\n",
    "    if p0 > p1:\n",
    "        assignments.append(0)\n",
    "    else:\n",
    "        assignments.append(1)\n",
    "\n",
    "# Print data points along with their hard assignments\n",
    "for point, label in zip(data, assignments):\n",
    "    print(f\"Data point: {point:.3f}, Cluster: {label}\")\n"
   ]
  },
  {
   "cell_type": "markdown",
   "metadata": {},
   "source": [
    "### Clustering Aggregation\n",
    "\n",
    "| Point | C | P |\n",
    "|-------|---|---|\n",
    "| A     | 0 | a |\n",
    "| B     | 0 | b |\n",
    "| C     | 2 | b |\n",
    "| D     | 1 | c |\n",
    "| E     | 1 | d |\n",
    "\n",
    "a) Fill in the following table where for each pair of points determine whether C and P agree or disagree on how to cluster that pair."
   ]
  },
  {
   "cell_type": "markdown",
   "metadata": {},
   "source": [
    "| Pair | Disagreement |\n",
    "|------|--------------|\n",
    "| A  B |      ?       |\n",
    "| A  C |      ?       |\n",
    "| A  D |      ?       |\n",
    "| A  E |      ?       |\n",
    "| B  C |      ?       |\n",
    "| B  D |      ?       |\n",
    "| B  E |      ?       |\n",
    "| C  D |      ?       |\n",
    "| C  E |      ?       |\n",
    "| D  E |      ?       |\n"
   ]
  },
  {
   "cell_type": "markdown",
   "metadata": {},
   "source": [
    "As datasets become very large, this process can become computationally challenging.\n",
    "\n",
    "b) Given N points, what is the formula for the number of unique pairs of points one can create?"
   ]
  },
  {
   "cell_type": "markdown",
   "metadata": {},
   "source": []
  },
  {
   "cell_type": "markdown",
   "metadata": {},
   "source": [
    "Assume that clustering C clusters all points in the same cluster and clustering P clusters points as such:\n",
    "\n",
    "| Point | P |\n",
    "|-------|---|\n",
    "| A     | 0 |\n",
    "| B     | 0 |\n",
    "| C     | 0 |\n",
    "| D     | 1 |\n",
    "| E     | 1 |\n",
    "| F     | 2 |\n",
    "| G     | 2 |\n",
    "| H     | 2 |\n",
    "| I     | 2 |\n",
    "\n",
    "c) What is the maximum number of disagreements there could be for a dataset of this size? (use the formula from b)?"
   ]
  },
  {
   "cell_type": "markdown",
   "metadata": {},
   "source": []
  },
  {
   "cell_type": "markdown",
   "metadata": {},
   "source": [
    "d) If we look at cluster 0. There are (3 x 2) / 2 = 3 pairs that agree with C (since all points in C are in the same cluster). For each cluster, determine how many agreements there are. How many total agreements are there? How many disagreements does that mean there are between C and P?"
   ]
  },
  {
   "cell_type": "markdown",
   "metadata": {},
   "source": []
  },
  {
   "cell_type": "markdown",
   "metadata": {},
   "source": [
    "e) Assuming that filtering the dataset by cluster number is a computationally easy operation, describe an algorithm inspired by the above process that can efficiently compute disagreement distances on large datasets."
   ]
  },
  {
   "cell_type": "markdown",
   "metadata": {},
   "source": []
  }
 ],
 "metadata": {
  "kernelspec": {
   "display_name": "Python 3.11.0 64-bit",
   "language": "python",
   "name": "python3"
  },
  "language_info": {
   "codemirror_mode": {
    "name": "ipython",
    "version": 3
   },
   "file_extension": ".py",
   "mimetype": "text/x-python",
   "name": "python",
   "nbconvert_exporter": "python",
   "pygments_lexer": "ipython3",
   "version": "3.11.0"
  },
  "orig_nbformat": 4,
  "vscode": {
   "interpreter": {
    "hash": "aee8b7b246df8f9039afb4144a1f6fd8d2ca17a180786b69acc140d282b71a49"
   }
  }
 },
 "nbformat": 4,
 "nbformat_minor": 2
}
