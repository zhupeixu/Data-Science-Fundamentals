{
 "cells": [
  {
   "attachments": {},
   "cell_type": "markdown",
   "metadata": {},
   "source": [
    "# Worksheet 15\n",
    "\n",
    "Name:  Zhupei Xu\n",
    "UID: U83632486\n",
    "\n",
    "### Topics\n",
    "\n",
    "- Support Vector Machines\n",
    "\n",
    "## Support Vector Machines\n",
    "\n",
    "a) Follow along in class to implement the perceptron algorithm and create an animation of the algorithm."
   ]
  },
  {
   "cell_type": "code",
   "execution_count": 8,
   "metadata": {},
   "outputs": [],
   "source": [
    "import numpy as np\n",
    "from PIL import Image as im\n",
    "import matplotlib.pyplot as plt\n",
    "import sklearn.datasets as datasets\n",
    "from PIL import Image\n",
    "TEMPFILE = \"temp.png\"\n",
    "CENTERS = [[0, 1], [1, 0]]\n",
    "\n",
    "# Dataset\n",
    "X, labels = datasets.make_blobs(n_samples=10, centers=CENTERS, cluster_std=0.2, random_state=0)\n",
    "Y = np.array(list(map(lambda x : -1 if x == 0 else 1, labels.tolist())))\n",
    "\n",
    "# Initializing w and b\n",
    "w = np.array([1, 1])\n",
    "b = 0.1\n",
    "\n",
    "# Perceptron Parameters\n",
    "epochs = 100\n",
    "alpha = .05\n",
    "expanding_rate = .99\n",
    "retracting_rate = 1.1\n",
    "\n",
    "def snap(x, w, b, error):\n",
    "    \"\"\"\n",
    "        Plot the street induced by w and b.\n",
    "        Circle the point x in red if it was\n",
    "        misclassified or in yellow if it was\n",
    "        classified correctly.\n",
    "    \"\"\"\n",
    "\n",
    "    xplot = np.linspace(-3, 3, 100)\n",
    "    yplot = (-w[0]*xplot - b) / w[1]  # Equation of the decision boundary\n",
    "    margin = 1 / np.linalg.norm(w)  # Margin for the support vectors\n",
    "\n",
    "    # Calculating the margins for the support vectors\n",
    "    left_svm = yplot - margin * w[1]\n",
    "    right_svm = yplot + margin * w[1]\n",
    "\n",
    "    # Plot the data, decision boundary and margins\n",
    "    fig, ax = plt.subplots()\n",
    "    cs = np.array(['b' if label == -1 else 'g' for label in Y])  # Color scheme\n",
    "    ax.scatter(X[:,0], X[:,1], color=cs, s=50, alpha=0.8)\n",
    "    if error:\n",
    "        ax.add_patch(plt.Circle((x[0], x[1]), 0.2, color='r', fill=False))\n",
    "    else:\n",
    "        ax.add_patch(plt.Circle((x[0], x[1]), 0.2, color='y', fill=False))\n",
    "    ax.plot(xplot, left_svm, 'g--', lw=2)\n",
    "    ax.plot(xplot, yplot, 'r-', lw=2)\n",
    "    ax.plot(xplot, right_svm, 'b--', lw=2)\n",
    "    ax.set_xlim(min(X[:, 0]) - 1, max(X[:, 0]) + 1)\n",
    "    ax.set_ylim(min(X[:, 1]) - 1, max(X[:, 1]) + 1)\n",
    "    fig.savefig(TEMPFILE)\n",
    "    plt.close()\n",
    "   \n",
    "    # Directly convert the plot to an image, without saving to TEMPFILE\n",
    "    fig.canvas.draw()  # Draw the canvas to cache the renderer\n",
    "    width, height = fig.get_size_inches() * fig.get_dpi()\n",
    "    mpl_image = np.frombuffer(fig.canvas.tostring_rgb(), dtype='uint8').reshape(int(height), int(width), 3)\n",
    "\n",
    "    plt.close(fig)  # Close the figure to free memory\n",
    "\n",
    "    # Convert the NumPy array to a PIL Image and return it\n",
    "    return Image.fromarray(mpl_image)\n",
    "\n",
    "\n",
    "\n",
    "images = []\n",
    "for _ in range(epochs):\n",
    "    # Shuffle the dataset at the beginning of each epoch\n",
    "    permutation = np.random.permutation(len(X))\n",
    "    X, Y = X[permutation], Y[permutation]\n",
    "    \n",
    "    for i in range(len(X)):\n",
    "        x, y = X[i], Y[i]\n",
    "\n",
    "        # Check if the sample x is correctly classified\n",
    "        if y * (np.dot(w, x) + b) <= 0:\n",
    "            error = True\n",
    "            # Update the weights and bias\n",
    "            w = w + alpha * y * x\n",
    "            # Update the bias term\n",
    "            b = b + alpha * y\n",
    "        else:\n",
    "            error = False\n",
    "        \n",
    "        # Take a snapshot for the current state\n",
    "        images.append(snap(x, w, b, error))\n",
    "images[0].save(\n",
    "    'svm.gif',\n",
    "    optimize=False,\n",
    "    save_all=True,\n",
    "    append_images=images[1:],\n",
    "    loop=0,\n",
    "    duration=100\n",
    ")"
   ]
  },
  {
   "attachments": {},
   "cell_type": "markdown",
   "metadata": {},
   "source": [
    "b) Consider the following dataset:"
   ]
  },
  {
   "cell_type": "code",
   "execution_count": null,
   "metadata": {},
   "outputs": [
    {
     "data": {
      "image/png": "[encoded data removed]",
      "text/plain": [
       "<Figure size 640x480 with 1 Axes>"
      ]
     },
     "metadata": {},
     "output_type": "display_data"
    }
   ],
   "source": [
    "import numpy as np\n",
    "import matplotlib.pyplot as plt\n",
    "import sklearn.datasets as datasets\n",
    "\n",
    "centers = [[0, 1], [1, 0]]\n",
    "X, _ = datasets.make_blobs(n_samples=10, centers=centers, cluster_std=0.3, random_state=0)\n",
    "Y = np.array([1 if x[0] - x[1] >= 0 else 0 for x in X])\n",
    "\n",
    "cs = np.array([x for x in 'bg'])\n",
    "_, ax = plt.subplots()\n",
    "ax.scatter(X[:,0],X[:,1],color=cs[Y].tolist(), s=50, alpha=0.8)\n",
    "ax.set_aspect('equal', adjustable='datalim')\n",
    "ax.add_patch(plt.Circle((X[0][0], X[0][1]), .1, color='r',fill=False))\n",
    "ax.add_patch(plt.Circle((X[1][0], X[1][1]), .1, color='r',fill=False))\n",
    "plt.show()"
   ]
  },
  {
   "cell_type": "markdown",
   "metadata": {},
   "source": [
    "if we fit an SVM to the above dataset, moved the points circled in red, and re-fit the SVM, describe how the fit would change depending on how the points are moved."
   ]
  },
  {
   "cell_type": "markdown",
   "metadata": {},
   "source": [
    "If the red-circled points are moved closer to the center of their respective clusters, they might become less critical as support vectors if they are no longer the closest points to the other cluster.\n",
    "If the points are moved closer to the other cluster, they could become more critical as support vectors.\n",
    "If the points are moved parallel to the decision boundary, they could remain support vectors, and the boundary would not change significantly unless the points cross over to the other side of the boundary.\n",
    "If a point is moved across the decision boundary, it will definitely affect the SVM fit."
   ]
  },
  {
   "attachments": {},
   "cell_type": "markdown",
   "metadata": {},
   "source": [
    "c) If we were to fit an SVM to the above dataset, which points do you think would affect the decision boundary the most? Circle them in red."
   ]
  },
  {
   "cell_type": "code",
   "execution_count": null,
   "metadata": {},
   "outputs": [
    {
     "data": {
      "image/png": "[encoded data removed]",
      "text/plain": [
       "<Figure size 640x480 with 1 Axes>"
      ]
     },
     "metadata": {},
     "output_type": "display_data"
    }
   ],
   "source": [
    "\n",
    "# Calculate the distance of each point to the decision boundary line x0 = x1\n",
    "distances = np.abs(X[:, 0] - X[:, 1]) / np.sqrt(2)\n",
    "\n",
    "# Sort the distances and pick the closest points\n",
    "sorted_indices = np.argsort(distances)\n",
    "\n",
    "# Assuming we have 2 support vectors from each class (1 and 0)\n",
    "# We will pick 1 point from each class that are closest to the decision boundary\n",
    "support_vectors_indices = []\n",
    "for label in [0, 1]:\n",
    "    # Find indices where the label matches\n",
    "    label_indices = np.where(Y == label)[0]\n",
    "    # Intersect with sorted indices to maintain distance ordering\n",
    "    sorted_label_indices = np.intersect1d(sorted_indices, label_indices, assume_unique=True)\n",
    "    # Append the index of the closest point of this label to the support vectors\n",
    "    support_vectors_indices.append(sorted_label_indices[0])\n",
    "\n",
    "# Now we can plot the points and circle the identified support vectors in red\n",
    "cs = np.array([x for x in 'bg'])\n",
    "_, ax = plt.subplots()\n",
    "ax.scatter(X[:,0],X[:,1],color=cs[Y].tolist(), s=50, alpha=0.8)\n",
    "ax.set_aspect('equal', adjustable='datalim')\n",
    "\n",
    "# Draw circles around the support vectors\n",
    "for index in support_vectors_indices:\n",
    "    ax.add_patch(plt.Circle((X[index][0], X[index][1]), .1, color='r', fill=False))\n",
    "\n",
    "plt.show()\n"
   ]
  }
 ],
 "metadata": {
  "kernelspec": {
   "display_name": "Python 3.11.0 64-bit",
   "language": "python",
   "name": "python3"
  },
  "language_info": {
   "codemirror_mode": {
    "name": "ipython",
    "version": 3
   },
   "file_extension": ".py",
   "mimetype": "text/x-python",
   "name": "python",
   "nbconvert_exporter": "python",
   "pygments_lexer": "ipython3",
   "version": "3.11.0"
  },
  "orig_nbformat": 4,
  "vscode": {
   "interpreter": {
    "hash": "aee8b7b246df8f9039afb4144a1f6fd8d2ca17a180786b69acc140d282b71a49"
   }
  }
 },
 "nbformat": 4,
 "nbformat_minor": 2
}
