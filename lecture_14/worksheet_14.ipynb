{
 "cells": [
  {
   "attachments": {},
   "cell_type": "markdown",
   "metadata": {},
   "source": [
    "# Worksheet 14\n",
    "\n",
    "Name:  Zhupei Xu\n",
    "UID: U83632486\n",
    "\n",
    "### Topics\n",
    "\n",
    "- Naive Bayes\n",
    "- Model Evaluation\n",
    "\n",
    "### Naive Bayes\n",
    "\n",
    "| Attribute A | Attribute B | Attribute C | Class |\n",
    "|-------------|-------------|-------------|-------|\n",
    "| Yes         | Single      | High        | No    |\n",
    "| No          | Married     | Mid         | No    |\n",
    "| No          | Single      | Low         | No    |\n",
    "| Yes         | Married     | High        | No    |\n",
    "| No          | Divorced    | Mid         | Yes   |\n",
    "| No          | Married     | Low         | No    |\n",
    "| Yes         | Divorced    | High        | No    |\n",
    "| No          | Single      | Mid         | Yes   |\n",
    "| No          | Married     | Low         | No    |\n",
    "| No          | Single      | Mid         | Yes   |\n",
    "\n",
    "a) Compute the following probabilities:\n",
    "\n",
    "- P(Attribute A = Yes | Class = No)\n",
    "- P(Attribute B = Divorced | Class = Yes)\n",
    "- P(Attribute C = High | Class = No)\n",
    "- P(Attribute C = Mid | Class = Yes)"
   ]
  },
  {
   "cell_type": "markdown",
   "metadata": {},
   "source": [
    "P(Attribute A = Yes | Class = No) = 0.375\n",
    "\n",
    "P(Attribute B = Divorced | Class = Yes) = 0.333...\n",
    "\n",
    "P(Attribute C = High | Class = No) = 0.375\n",
    "\n",
    "P(Attribute C = Mid | Class = Yes) = 0.666..."
   ]
  },
  {
   "cell_type": "markdown",
   "metadata": {},
   "source": [
    "b) Classify the following unseen records:\n",
    "\n",
    "- (Yes, Married, Mid)\n",
    "- (No, Divorced, High)\n",
    "- (No, Single, High)\n",
    "- (No, Divorced, Low)"
   ]
  },
  {
   "cell_type": "markdown",
   "metadata": {},
   "source": [
    "no, no, no, no."
   ]
  },
  {
   "cell_type": "markdown",
   "metadata": {},
   "source": [
    "### Model Evaluation\n",
    "\n",
    "a) Write a function to generate the confusion matrix for a list of actual classes and a list of predicted classes"
   ]
  },
  {
   "cell_type": "code",
   "execution_count": 1,
   "metadata": {},
   "outputs": [
    {
     "name": "stdout",
     "output_type": "stream",
     "text": [
      "{'True Positive': 2, 'True Negative': 4, 'False Positive': 3, 'False Negative': 1}\n"
     ]
    }
   ],
   "source": [
    "actual_class = [\"Yes\", \"No\", \"No\", \"Yes\", \"No\", \"No\", \"Yes\", \"No\", \"No\", \"No\"]\n",
    "predicted_class = [\"Yes\", \"No\", \"Yes\", \"No\", \"No\", \"No\", \"Yes\", \"Yes\", \"Yes\", \"No\"]\n",
    "\n",
    "def confusion_matrix(actual, predicted):\n",
    "    TP = 0\n",
    "    TN = 0\n",
    "    FP = 0\n",
    "    FN = 0\n",
    "    \n",
    "    for a, p in zip(actual, predicted):\n",
    "        if a == \"Yes\" and p == \"Yes\":\n",
    "            TP += 1\n",
    "        elif a == \"No\" and p == \"No\":\n",
    "            TN += 1\n",
    "        elif a == \"No\" and p == \"Yes\":\n",
    "            FP += 1\n",
    "        elif a == \"Yes\" and p == \"No\":\n",
    "            FN += 1\n",
    "    \n",
    "    matrix = {\n",
    "        'True Positive': TP,\n",
    "        'True Negative': TN,\n",
    "        'False Positive': FP,\n",
    "        'False Negative': FN\n",
    "    }\n",
    "    \n",
    "    return matrix\n",
    "\n",
    "\n",
    "\n",
    "print(confusion_matrix(actual_class, predicted_class))"
   ]
  },
  {
   "cell_type": "markdown",
   "metadata": {},
   "source": [
    "b) Assume you have the following Cost Matrix:\n",
    "\n",
    "|            | predicted = Y | predicted = N |\n",
    "|------------|---------------|---------------|\n",
    "| actual = Y |       -1      |       5       |\n",
    "| actual = N |        10     |       0       |\n",
    "\n",
    "What is the cost of the above classification?"
   ]
  },
  {
   "cell_type": "markdown",
   "metadata": {},
   "source": [
    "33"
   ]
  },
  {
   "cell_type": "markdown",
   "metadata": {},
   "source": [
    "c) Write a function that takes in the actual values, the predictions, and a cost matrix and outputs a cost. Test it on the above example."
   ]
  },
  {
   "cell_type": "code",
   "execution_count": 2,
   "metadata": {},
   "outputs": [
    {
     "name": "stdout",
     "output_type": "stream",
     "text": [
      "33\n"
     ]
    }
   ],
   "source": [
    "def compute_cost(actual, predicted, cost_matrix):\n",
    "    # Compute confusion matrix\n",
    "    TP = 0\n",
    "    TN = 0\n",
    "    FP = 0\n",
    "    FN = 0\n",
    "    \n",
    "    for a, p in zip(actual, predicted):\n",
    "        if a == \"Yes\" and p == \"Yes\":\n",
    "            TP += 1\n",
    "        elif a == \"No\" and p == \"No\":\n",
    "            TN += 1\n",
    "        elif a == \"No\" and p == \"Yes\":\n",
    "            FP += 1\n",
    "        elif a == \"Yes\" and p == \"No\":\n",
    "            FN += 1\n",
    "            \n",
    "    # Compute cost\n",
    "    cost = (cost_matrix['TP'] * TP) + (cost_matrix['TN'] * TN) + (cost_matrix['FP'] * FP) + (cost_matrix['FN'] * FN)\n",
    "    \n",
    "    return cost\n",
    "\n",
    "# Example\n",
    "actual_class = [\"Yes\", \"No\", \"No\", \"Yes\", \"No\", \"No\", \"Yes\", \"No\", \"No\", \"No\"]\n",
    "predicted_class = [\"Yes\", \"No\", \"Yes\", \"No\", \"No\", \"No\", \"Yes\", \"Yes\", \"Yes\", \"No\"]\n",
    "\n",
    "cost_matrix = {\n",
    "    'TP': -1,   # Cost for True Positive\n",
    "    'TN': 0,    # Cost for True Negative\n",
    "    'FP': 10,   # Cost for False Positive\n",
    "    'FN': 5     # Cost for False Negative\n",
    "}\n",
    "\n",
    "print(compute_cost(actual_class, predicted_class, cost_matrix))\n"
   ]
  },
  {
   "cell_type": "markdown",
   "metadata": {},
   "source": [
    "d) Implement functions for the following:\n",
    "\n",
    "- accuracy\n",
    "- precision\n",
    "- recall\n",
    "- f-measure\n",
    ".\n",
    "and apply them to the above example."
   ]
  },
  {
   "cell_type": "code",
   "execution_count": 3,
   "metadata": {},
   "outputs": [
    {
     "name": "stdout",
     "output_type": "stream",
     "text": [
      "Accuracy: 0.6\n",
      "Precision: 0.4\n",
      "Recall: 0.6666666666666666\n",
      "F-Measure: 0.5\n"
     ]
    }
   ],
   "source": [
    "def confusion_values(actual, predicted):\n",
    "    TP = sum([a == p == \"Yes\" for a, p in zip(actual, predicted)])\n",
    "    TN = sum([a == p == \"No\" for a, p in zip(actual, predicted)])\n",
    "    FP = sum([a == \"No\" and p == \"Yes\" for a, p in zip(actual, predicted)])\n",
    "    FN = sum([a == \"Yes\" and p == \"No\" for a, p in zip(actual, predicted)])\n",
    "    return TP, TN, FP, FN\n",
    "\n",
    "def accuracy(actual, predicted):\n",
    "    TP, TN, FP, FN = confusion_values(actual, predicted)\n",
    "    return (TP + TN) / (TP + TN + FP + FN)\n",
    "\n",
    "def precision(actual, predicted):\n",
    "    TP, _, FP, _ = confusion_values(actual, predicted)\n",
    "    return TP / (TP + FP)\n",
    "\n",
    "def recall(actual, predicted):\n",
    "    TP, _, _, FN = confusion_values(actual, predicted)\n",
    "    return TP / (TP + FN)\n",
    "\n",
    "def f_measure(actual, predicted):\n",
    "    p = precision(actual, predicted)\n",
    "    r = recall(actual, predicted)\n",
    "    return 2 * (p * r) / (p + r)\n",
    "\n",
    "# Example\n",
    "actual_class = [\"Yes\", \"No\", \"No\", \"Yes\", \"No\", \"No\", \"Yes\", \"No\", \"No\", \"No\"]\n",
    "predicted_class = [\"Yes\", \"No\", \"Yes\", \"No\", \"No\", \"No\", \"Yes\", \"Yes\", \"Yes\", \"No\"]\n",
    "\n",
    "print(\"Accuracy:\", accuracy(actual_class, predicted_class))\n",
    "print(\"Precision:\", precision(actual_class, predicted_class))\n",
    "print(\"Recall:\", recall(actual_class, predicted_class))\n",
    "print(\"F-Measure:\", f_measure(actual_class, predicted_class))\n"
   ]
  }
 ],
 "metadata": {
  "kernelspec": {
   "display_name": "Python 3.11.0 64-bit",
   "language": "python",
   "name": "python3"
  },
  "language_info": {
   "codemirror_mode": {
    "name": "ipython",
    "version": 3
   },
   "file_extension": ".py",
   "mimetype": "text/x-python",
   "name": "python",
   "nbconvert_exporter": "python",
   "pygments_lexer": "ipython3",
   "version": "3.11.0"
  },
  "orig_nbformat": 4,
  "vscode": {
   "interpreter": {
    "hash": "aee8b7b246df8f9039afb4144a1f6fd8d2ca17a180786b69acc140d282b71a49"
   }
  }
 },
 "nbformat": 4,
 "nbformat_minor": 2
}
